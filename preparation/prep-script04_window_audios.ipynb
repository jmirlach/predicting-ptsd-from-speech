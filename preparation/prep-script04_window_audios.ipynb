{
 "cells": [
  {
   "cell_type": "code",
   "execution_count": null,
   "id": "0",
   "metadata": {},
   "outputs": [],
   "source": [
    "import os\n",
    "import glob\n",
    "import numpy as np\n",
    "import soundfile as sf"
   ]
  },
  {
   "cell_type": "code",
   "execution_count": null,
   "id": "1",
   "metadata": {},
   "outputs": [],
   "source": [
    "WINDOW_SIZE_MS = 2000  # Adjust the window size as needed\n",
    "OVERLAP = 0.25  # Adjust the overlap ratio as needed\n",
    "SRC_FOLDER = '../data/cropped_data/cropped_interview_data/per_question'\n",
    "DEST_FOLDER = f'../data/cropped_data/cropped_interview_data/per_question/windowed_{WINDOW_SIZE_MS}_{int(OVERLAP*WINDOW_SIZE_MS)}'"
   ]
  },
  {
   "cell_type": "code",
   "execution_count": null,
   "id": "2",
   "metadata": {},
   "outputs": [],
   "source": [
    "# Create the destination folder if it doesn't exist\n",
    "os.makedirs(DEST_FOLDER, exist_ok=True)\n",
    "\n",
    "# Get a list of all WAV files in the source folder\n",
    "wav_files = glob.glob(os.path.join(SRC_FOLDER, '*.wav'))"
   ]
  },
  {
   "cell_type": "code",
   "execution_count": null,
   "id": "3",
   "metadata": {},
   "outputs": [],
   "source": [
    "# Iterate over each WAV file\n",
    "for wav_file in wav_files:\n",
    "    # Read the audio file\n",
    "    audio, sample_rate = sf.read(wav_file)\n",
    "\n",
    "    # Calculate the number of samples per window and overlap\n",
    "    window_length = int(WINDOW_SIZE_MS / 1000 * sample_rate)\n",
    "    overlap_length = int(window_length * OVERLAP)\n",
    "\n",
    "    # Generate the windowed segments\n",
    "    segments = []\n",
    "    start = 0\n",
    "    while start + window_length <= len(audio):\n",
    "        segments.append(audio[start:start + window_length])\n",
    "        start += overlap_length\n",
    "\n",
    "    # Save the windowed segments as individual files\n",
    "    base_name = os.path.splitext(os.path.basename(wav_file))[0]\n",
    "    for i, segment in enumerate(segments):\n",
    "        new_file_name = f\"{base_name}_{i+1}.wav\"\n",
    "        new_file_path = os.path.join(DEST_FOLDER, new_file_name)\n",
    "        sf.write(new_file_path, segment, sample_rate)\n",
    "    print(f'Windowing finished for {base_name}')\n",
    "\n",
    "print(\"Windowing complete. Windowed segments saved in the destination folder.\")"
   ]
  }
 ],
 "metadata": {
  "kernelspec": {
   "display_name": "Python 3 (ipykernel)",
   "language": "python",
   "name": "python3"
  },
  "language_info": {
   "codemirror_mode": {
    "name": "ipython",
    "version": 3
   },
   "file_extension": ".py",
   "mimetype": "text/x-python",
   "name": "python",
   "nbconvert_exporter": "python",
   "pygments_lexer": "ipython3",
   "version": "3.10.11"
  }
 },
 "nbformat": 4,
 "nbformat_minor": 5
}
