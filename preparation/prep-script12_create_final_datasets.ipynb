{
 "cells": [
  {
   "cell_type": "code",
   "execution_count": null,
   "id": "0",
   "metadata": {},
   "outputs": [],
   "source": [
    "import pandas as pd\n",
    "import os"
   ]
  },
  {
   "cell_type": "code",
   "execution_count": null,
   "id": "1",
   "metadata": {},
   "outputs": [],
   "source": [
    "source_folder_interview = '../data/features/features_interview'\n",
    "source_folder_text = '../data/features/features_text'\n",
    "\n",
    "output_folder = '../data/final_datasets'\n",
    "used_patients = ['P01', 'P03', 'P06', 'P07', 'P11', 'P12', 'P20', 'P21', 'P22', 'Px01', 'Px02', 'Px03', 'Px04', 'Px05', 'Px06', 'Px07', 'Px08', 'Px09']\n",
    "# noch okay: P03 und P07 (jeweils nicht Muttersprachlerinnen)"
   ]
  },
  {
   "cell_type": "code",
   "execution_count": null,
   "id": "2",
   "metadata": {},
   "outputs": [],
   "source": [
    "def save_final_dataset(patient, timepoint, type1, type2, model, features_df):\n",
    "    df = features_df\n",
    "    df.insert(loc=0, column='patient', value=patient)\n",
    "    df.insert(loc=1, column='timepoint', value=timepoint)\n",
    "    label = patient.map(lambda name: 'x' in name)\n",
    "    label[label == True] = 1\n",
    "    label[label == False] = 0\n",
    "    df.insert(loc=2, column='label', value=label)\n",
    "    \n",
    "    print()\n",
    "    \n",
    "    df = df[df['patient'].map(lambda pat: pat in used_patients)]\n",
    "    \n",
    "    filename = f'{type1}_{type2}_{model}.csv'\n",
    "    df.to_csv(os.path.join(output_folder, filename),index=False)\n",
    "    \n",
    "    print(f'Created {filename} with dimension {df.shape}')"
   ]
  },
  {
   "cell_type": "markdown",
   "id": "3",
   "metadata": {},
   "source": [
    "# Interviews per question"
   ]
  },
  {
   "cell_type": "code",
   "execution_count": null,
   "id": "4",
   "metadata": {},
   "outputs": [],
   "source": [
    "df = pd.read_csv(os.path.join(source_folder_interview, 'question_facebook-wav2vec2.csv'),delimiter=',')\n",
    "\n",
    "patient = df['file'].map(lambda file: file.split('_')[0])\n",
    "timepoint = df['file'].map(lambda file: file.split('_')[1])\n",
    "type1 = 'interview'\n",
    "type2 = 'question'\n",
    "model = 'facebook-wav2vec2'\n",
    "features_df = df.drop('file', axis = 1)\n",
    "\n",
    "save_final_dataset(patient, timepoint, type1, type2, model, features_df)"
   ]
  },
  {
   "cell_type": "code",
   "execution_count": null,
   "id": "5",
   "metadata": {},
   "outputs": [],
   "source": [
    "df = pd.read_csv(os.path.join(source_folder_interview, 'question_opensmile.csv'),delimiter=',')\n",
    "patient = df['file'].map(lambda file: file.split('_')[-4].split('\\\\')[1])\n",
    "timepoint = df['file'].map(lambda file: file.split('_')[-3])\n",
    "type1 = 'interview'\n",
    "type2 = 'question'\n",
    "model = 'opensmile'\n",
    "features_df = df.drop('file', axis = 1)\n",
    "\n",
    "\n",
    "save_final_dataset(patient, timepoint, type1, type2, model, features_df)"
   ]
  },
  {
   "cell_type": "markdown",
   "id": "6",
   "metadata": {},
   "source": [
    "# Interviews windowed"
   ]
  },
  {
   "cell_type": "code",
   "execution_count": null,
   "id": "7",
   "metadata": {},
   "outputs": [],
   "source": [
    "df = pd.read_csv(os.path.join(source_folder_interview, 'windowed_facebook-wav2vec2.csv'),delimiter=',')\n",
    "\n",
    "patient = df['file'].map(lambda file: file.split('_')[0])\n",
    "timepoint = df['file'].map(lambda file: file.split('_')[1])\n",
    "type1 = 'interview'\n",
    "type2 = 'windowed'\n",
    "model = 'facebook-wav2vec2'\n",
    "features_df = df.drop('file', axis = 1)\n",
    "\n",
    "save_final_dataset(patient, timepoint, type1, type2, model, features_df)"
   ]
  },
  {
   "cell_type": "code",
   "execution_count": null,
   "id": "8",
   "metadata": {},
   "outputs": [],
   "source": [
    "df = pd.read_csv(os.path.join(source_folder_interview, 'windowed_opensmile.csv'),delimiter=',')\n",
    "patient = df['file'].map(lambda file: file.split('_')[-5].split('\\\\')[1])\n",
    "timepoint = df['file'].map(lambda file: file.split('_')[-4])\n",
    "type1 = 'interview'\n",
    "type2 = 'windowed'\n",
    "model = 'opensmile'\n",
    "features_df = df.drop('file', axis = 1)\n",
    "\n",
    "\n",
    "save_final_dataset(patient, timepoint, type1, type2, model, features_df)"
   ]
  },
  {
   "cell_type": "markdown",
   "id": "9",
   "metadata": {},
   "source": [
    "# Text phrase level"
   ]
  },
  {
   "cell_type": "code",
   "execution_count": null,
   "id": "10",
   "metadata": {},
   "outputs": [],
   "source": [
    "df = pd.read_csv(os.path.join(source_folder_text, 'phrase_facebook-wav2vec2.csv'),delimiter=',')\n",
    "\n",
    "patient = df['file'].map(lambda file: file.split('_')[0])\n",
    "timepoint = df['file'].map(lambda file: file.split('_')[2])\n",
    "type1 = 'text'\n",
    "type2 = 'phrase'\n",
    "model = 'facebook-wav2vec2'\n",
    "features_df = df.drop('file', axis = 1)\n",
    "\n",
    "save_final_dataset(patient, timepoint, type1, type2, model, features_df)"
   ]
  },
  {
   "cell_type": "code",
   "execution_count": null,
   "id": "11",
   "metadata": {},
   "outputs": [],
   "source": [
    "df = pd.read_csv(os.path.join(source_folder_text, 'phrase_opensmile.csv'),delimiter=',')\n",
    "\n",
    "patient = df['file'].map(lambda file: file.split('\\\\')[1].split('_')[0])\n",
    "timepoint = df['file'].map(lambda file: file.split('\\\\')[1].split('_')[2])\n",
    "type1 = 'text'\n",
    "type2 = 'phrase'\n",
    "model = 'opensmile'\n",
    "features_df = df.drop(['file', 'start', 'end'], axis = 1)\n",
    "save_final_dataset(patient, timepoint, type1, type2, model, features_df)"
   ]
  },
  {
   "cell_type": "markdown",
   "id": "12",
   "metadata": {},
   "source": [
    "# Text word level"
   ]
  },
  {
   "cell_type": "code",
   "execution_count": null,
   "id": "13",
   "metadata": {},
   "outputs": [],
   "source": [
    "df = pd.read_csv(os.path.join(source_folder_text, 'word_facebook-wav2vec2.csv'),delimiter=',')\n",
    "\n",
    "patient = df['file'].map(lambda file: file.split('_')[0])\n",
    "timepoint = df['file'].map(lambda file: file.split('_')[2])\n",
    "type1 = 'text'\n",
    "type2 = 'word'\n",
    "model = 'facebook-wav2vec2'\n",
    "features_df = df.drop('file', axis = 1)\n",
    "\n",
    "save_final_dataset(patient, timepoint, type1, type2, model, features_df)"
   ]
  },
  {
   "cell_type": "code",
   "execution_count": null,
   "id": "14",
   "metadata": {},
   "outputs": [],
   "source": [
    "df = pd.read_csv(os.path.join(source_folder_text, 'word_opensmile.csv'),delimiter=',')\n",
    "\n",
    "patient = df['file'].map(lambda file: file.split('\\\\')[1].split('_')[0])\n",
    "timepoint = df['file'].map(lambda file: file.split('\\\\')[1].split('_')[2])\n",
    "type1 = 'text'\n",
    "type2 = 'word'\n",
    "model = 'opensmile'\n",
    "features_df = df.drop(['file', 'start', 'end'], axis = 1)\n",
    "save_final_dataset(patient, timepoint, type1, type2, model, features_df)"
   ]
  },
  {
   "cell_type": "markdown",
   "id": "15",
   "metadata": {},
   "source": [
    "# Interview and Text combined"
   ]
  },
  {
   "cell_type": "code",
   "execution_count": null,
   "id": "16",
   "metadata": {},
   "outputs": [],
   "source": [
    "df_interview = pd.read_csv(os.path.join(source_folder_interview, 'question_facebook-wav2vec2.csv'),delimiter=',')\n",
    "df_text= pd.read_csv(os.path.join(source_folder_text, 'phrase_facebook-wav2vec2.csv'),delimiter=',')\n",
    "df = pd.concat([df_interview, df_text], axis=0)\n",
    "\n",
    "patient = df['file'].map(lambda file: file.split('_')[0])\n",
    "timepoint = df['file'].map(lambda file: file.split('_')[2])\n",
    "type1 = 'combined'\n",
    "type2 = 'question-phrase'\n",
    "model = 'facebook-wav2vec2'\n",
    "features_df = df.drop('file', axis = 1)\n",
    "\n",
    "save_final_dataset(patient, timepoint, type1, type2, model, features_df)"
   ]
  },
  {
   "cell_type": "code",
   "execution_count": null,
   "id": "17",
   "metadata": {},
   "outputs": [],
   "source": [
    "df_interview = pd.read_csv(os.path.join(source_folder_interview, 'question_opensmile.csv'),delimiter=',')\n",
    "df_text= pd.read_csv(os.path.join(source_folder_text, 'phrase_opensmile.csv'),delimiter=',')\n",
    "df = pd.concat([df_interview, df_text], axis=0)\n",
    "\n",
    "patient = df['file'].map(lambda file: file.split('\\\\')[1].split('_')[0])\n",
    "timepoint = df['file'].map(lambda file: file.split('\\\\')[1].split('_')[2])\n",
    "type1 = 'combined'\n",
    "type2 = 'question-phrase'\n",
    "model = 'opensmile'\n",
    "features_df = df.drop(['file', 'start', 'end'], axis = 1)\n",
    "save_final_dataset(patient, timepoint, type1, type2, model, features_df)"
   ]
  },
  {
   "cell_type": "code",
   "execution_count": null,
   "id": "18",
   "metadata": {},
   "outputs": [],
   "source": [
    "df_interview = pd.read_csv(os.path.join(source_folder_interview, 'windowed_facebook-wav2vec2.csv'),delimiter=',')\n",
    "df_text= pd.read_csv(os.path.join(source_folder_text, 'word_facebook-wav2vec2.csv'),delimiter=',')\n",
    "df = pd.concat([df_interview, df_text], axis=0)\n",
    "\n",
    "patient = df['file'].map(lambda file: file.split('_')[0])\n",
    "timepoint = df['file'].map(lambda file: file.split('_')[2])\n",
    "type1 = 'combined'\n",
    "type2 = 'windowed-word'\n",
    "model = 'facebook-wav2vec2'\n",
    "features_df = df.drop('file', axis = 1)\n",
    "\n",
    "save_final_dataset(patient, timepoint, type1, type2, model, features_df)"
   ]
  },
  {
   "cell_type": "code",
   "execution_count": null,
   "id": "19",
   "metadata": {},
   "outputs": [],
   "source": [
    "df_interview = pd.read_csv(os.path.join(source_folder_interview, 'windowed_opensmile.csv'),delimiter=',')\n",
    "df_text= pd.read_csv(os.path.join(source_folder_text, 'word_opensmile.csv'),delimiter=',')\n",
    "df = pd.concat([df_interview, df_text], axis=0)\n",
    "\n",
    "patient = df['file'].map(lambda file: file.split('\\\\')[1].split('_')[0])\n",
    "timepoint = df['file'].map(lambda file: file.split('\\\\')[1].split('_')[2])\n",
    "type1 = 'combined'\n",
    "type2 = 'windowed-word'\n",
    "model = 'opensmile'\n",
    "features_df = df.drop(['file', 'start', 'end'], axis = 1)\n",
    "save_final_dataset(patient, timepoint, type1, type2, model, features_df)"
   ]
  },
  {
   "cell_type": "markdown",
   "id": "20",
   "metadata": {},
   "source": [
    "# Interview and Text combined 2"
   ]
  },
  {
   "cell_type": "code",
   "execution_count": null,
   "id": "21",
   "metadata": {},
   "outputs": [],
   "source": [
    "df_interview = pd.read_csv(os.path.join(source_folder_interview, 'question_facebook-wav2vec2.csv'),delimiter=',')\n",
    "df_text= pd.read_csv(os.path.join(source_folder_text, 'phrase_facebook-wav2vec2.csv'),delimiter=',')\n",
    "df = pd.concat([df_interview, df_text], axis=1)\n",
    "\n",
    "patient = df['file'].map(lambda file: file.split('_')[0])\n",
    "timepoint = df['file'].map(lambda file: file.split('_')[2])\n",
    "type1 = 'combined'\n",
    "type2 = 'question-phrase'\n",
    "model = 'facebook-wav2vec2'\n",
    "features_df = df.drop('file', axis = 1)\n",
    "\n",
    "save_final_dataset(patient, timepoint, type1, type2, model, features_df)"
   ]
  }
 ],
 "metadata": {
  "kernelspec": {
   "display_name": "Python 3 (ipykernel)",
   "language": "python",
   "name": "python3"
  },
  "language_info": {
   "codemirror_mode": {
    "name": "ipython",
    "version": 3
   },
   "file_extension": ".py",
   "mimetype": "text/x-python",
   "name": "python",
   "nbconvert_exporter": "python",
   "pygments_lexer": "ipython3",
   "version": "3.10.11"
  }
 },
 "nbformat": 4,
 "nbformat_minor": 5
}
