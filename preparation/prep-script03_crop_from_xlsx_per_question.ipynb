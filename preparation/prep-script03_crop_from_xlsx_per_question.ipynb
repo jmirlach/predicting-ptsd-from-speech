{
 "cells": [
  {
   "cell_type": "code",
   "execution_count": null,
   "id": "0",
   "metadata": {},
   "outputs": [],
   "source": [
    "from pyannote.audio import Pipeline\n",
    "import pickle\n",
    "import os\n",
    "import time\n",
    "import soundfile as sf\n",
    "from pyannote.core.segment import Segment\n",
    "import pandas as pd"
   ]
  },
  {
   "cell_type": "code",
   "execution_count": null,
   "id": "1",
   "metadata": {},
   "outputs": [],
   "source": [
    "def cropp_wav_per_question(audiofile_path, output_folder, start, duration, question, probant_acronym):\n",
    "\n",
    "    wav_data, wav_samplerate = sf.read(audiofile_path)\n",
    "    start_sample = int(start * wav_samplerate)  # Assuming you have the sample rate stored in 'samplerate'\n",
    "    end_sample = start_sample + int(duration * wav_samplerate)\n",
    "    cropped_data = wav_data[start_sample:end_sample]\n",
    "\n",
    "    # Save the cropped segment to a new WAV file\n",
    "    output_file_path = os.path.join(output_folder, f'{probant_acronym}_Interview_{question}.wav')\n",
    "    sf.write(output_file_path, cropped_data, wav_samplerate)\n",
    "\n",
    "    print(f\"Safed cropped {question} for {probant_acronym}\")"
   ]
  },
  {
   "cell_type": "code",
   "execution_count": null,
   "id": "2",
   "metadata": {},
   "outputs": [],
   "source": [
    "timestamp_data = pd.read_excel('../data/timestamps_manually_corrected.xlsx', sheet_name = 'second_version')\n",
    "output_folder = '../data/cropped_data/cropped_interview_data/per_question'\n",
    "\n",
    "for index, row in timestamp_data.iterrows():\n",
    "    print(row['person'])\n",
    "    if not (row['speaker_number'].startswith('SPEAKER')):\n",
    "        continue\n",
    "    if not (row['Gender'] == 'f'):\n",
    "        continue\n",
    "    \n",
    "    probant_acronym = row['person']\n",
    "    timepoint = row['time']\n",
    "    audiofile_folder = f'../data/20221121_Sprachaufnahmen_Preprocessed/{probant_acronym}_Interview_{timepoint}'\n",
    "    for file_name in os.listdir(audiofile_folder):\n",
    "        if 'ZOOM' in file_name and not file_name.endswith('BU.WAV') and (file_name.endswith('.WAV') or file_name.endswith('.wav')):\n",
    "            filename = file_name\n",
    "            continue\n",
    "    audiofile_path = os.path.join(audiofile_folder, filename)\n",
    "    probant_acronym = f'{probant_acronym}_{timepoint}'\n",
    "    \n",
    "    for i in [1, 2, 3]:\n",
    "        \n",
    "        question = f'Q{i}'\n",
    "        start = row[f'{question}_Start']\n",
    "        duration = row[f'{question}_Duration']\n",
    "            \n",
    "        cropp_wav_per_question(audiofile_path, output_folder, start, duration, question, probant_acronym)"
   ]
  }
 ],
 "metadata": {
  "kernelspec": {
   "display_name": "Python 3 (ipykernel)",
   "language": "python",
   "name": "python3"
  },
  "language_info": {
   "codemirror_mode": {
    "name": "ipython",
    "version": 3
   },
   "file_extension": ".py",
   "mimetype": "text/x-python",
   "name": "python",
   "nbconvert_exporter": "python",
   "pygments_lexer": "ipython3",
   "version": "3.10.11"
  }
 },
 "nbformat": 4,
 "nbformat_minor": 5
}
