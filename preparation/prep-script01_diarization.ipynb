{
 "cells": [
  {
   "cell_type": "code",
   "execution_count": null,
   "id": "0",
   "metadata": {},
   "outputs": [],
   "source": [
    "from pyannote.audio import Pipeline\n",
    "import pickle\n",
    "import os\n",
    "import time"
   ]
  },
  {
   "cell_type": "code",
   "execution_count": null,
   "id": "1",
   "metadata": {},
   "outputs": [],
   "source": [
    "#assuming the first person speaking is always the interviewer and there are only 2 people speaking\n",
    "def getInteviewerAndProbantSegments(diarization):\n",
    "    interviewer = \"\"\n",
    "    interviewer_segments = []\n",
    "    probant = \"\"\n",
    "    probant_segments = []\n",
    "    for i, segment in enumerate(diarization.itersegments()):\n",
    "        if i == 0:\n",
    "            interviewer = diarization.get_labels(segment)\n",
    "        if interviewer == diarization.get_labels(segment):\n",
    "            interviewer_segments.append(segment)   \n",
    "        else:\n",
    "            probant_segments.append(segment)\n",
    "    return (interviewer_segments, probant_segments)"
   ]
  },
  {
   "cell_type": "code",
   "execution_count": null,
   "id": "2",
   "metadata": {},
   "outputs": [],
   "source": [
    "def safeDiarization(diarization, interviewer_segments, probant_segments, probant_acronym):\n",
    "    \n",
    "    filename_diarization = f\"{probant_acronym}_diarization.pkl\"\n",
    "    filename_diarization_rttm = f\"{probant_acronym}_diarization.rttm\"\n",
    "    filepath = os.path.join('../data/annotation_objects/', filename_diarization)\n",
    "    with open(filepath, 'wb') as file:\n",
    "        pickle.dump(diarization, file)\n",
    "    filepath = os.path.join('../data/annotation_objects/', filename_diarization_rttm)\n",
    "    with open(filepath, \"w\") as rttm:\n",
    "        diarization.write_rttm(rttm)\n",
    "        \n",
    "    filename_interviewer_segments = f\"{probant_acronym}_interviewer_segments.pkl\"\n",
    "    filepath = os.path.join('../data/annotation_objects/', filename_interviewer_segments)\n",
    "    with open(filepath, 'wb') as file:\n",
    "        pickle.dump(interviewer_segments, file)\n",
    "        \n",
    "    filename_probant_segments = f\"{probant_acronym}_probant_segments.pkl\"\n",
    "    filepath = os.path.join('../data/annotation_objects/', filename_probant_segments)\n",
    "    with open(filepath, 'wb') as file:\n",
    "        pickle.dump(probant_segments, file)"
   ]
  },
  {
   "cell_type": "code",
   "execution_count": null,
   "id": "3",
   "metadata": {},
   "outputs": [],
   "source": [
    "pipeline = Pipeline.from_pretrained(\"pyannote/speaker-diarization@2.1\",\n",
    "                                    use_auth_token=\"...\")"
   ]
  },
  {
   "cell_type": "code",
   "execution_count": null,
   "id": "4",
   "metadata": {},
   "outputs": [],
   "source": [
    "parent_folder = '../data/20221121_Sprachaufnahmen_Preprocessed'\n",
    "\n",
    "for root, dirs, files in os.walk(parent_folder):\n",
    "    for folder_name in dirs:\n",
    "        if 'Interview' in folder_name:\n",
    "            subfolder_path = os.path.join(root, folder_name)\n",
    "            person = folder_name.split(\"_\", 1)[0]\n",
    "            person_time_point = folder_name.split(\"_\", -1)[-1]\n",
    "            probant_acronym = person + \"_\" + person_time_point\n",
    "            print(folder_name)\n",
    "            for file_name in os.listdir(subfolder_path):\n",
    "                print(file_name)\n",
    "                if 'ZOO' in file_name and not file_name.endswith('BU.WAV') and (file_name.endswith('.WAV') or file_name.endswith('.wav')):\n",
    "                    \n",
    "                    annotation_folder = '../data/annotation_objects'\n",
    "                    annotation_file = os.path.join(annotation_folder, f'{probant_acronym}_diarization.rttm')\n",
    "\n",
    "                    if os.path.exists(annotation_file):\n",
    "                        print(f'Skipping pipeline for {probant_acronym} (annotation file already exists)\\n')\n",
    "                        continue\n",
    "                                        \n",
    "                    print(f'Run pipeline for {probant_acronym}')\n",
    "                    \n",
    "                    print(f'Started diarizing')\n",
    "                    start_time = time.time()\n",
    "                    file_path = os.path.join(subfolder_path, file_name)\n",
    "                    diarization = pipeline(file_path, num_speakers=2)\n",
    "                    end_time = time.time()\n",
    "                    print(f'Finished diarizing after {end_time - start_time} s')\n",
    "                    \n",
    "                    interviewer_segments, probant_segments = getInteviewerAndProbantSegments(diarization)\n",
    "                    \n",
    "                    safeDiarization(diarization, interviewer_segments, probant_segments, probant_acronym)\n",
    "                    print(f'Diarization safed')\n",
    "                    \n",
    "                    print(f'Finished pipeline run for {probant_acronym}\\n')"
   ]
  }
 ],
 "metadata": {
  "kernelspec": {
   "display_name": "Python 3 (ipykernel)",
   "language": "python",
   "name": "python3"
  },
  "language_info": {
   "codemirror_mode": {
    "name": "ipython",
    "version": 3
   },
   "file_extension": ".py",
   "mimetype": "text/x-python",
   "name": "python",
   "nbconvert_exporter": "python",
   "pygments_lexer": "ipython3",
   "version": "3.10.11"
  }
 },
 "nbformat": 4,
 "nbformat_minor": 5
}
