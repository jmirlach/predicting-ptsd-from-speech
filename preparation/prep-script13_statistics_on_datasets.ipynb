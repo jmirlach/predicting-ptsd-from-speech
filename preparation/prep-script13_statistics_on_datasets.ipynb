{
 "cells": [
  {
   "cell_type": "code",
   "execution_count": null,
   "id": "0",
   "metadata": {},
   "outputs": [],
   "source": [
    "from pyannote.audio import Pipeline\n",
    "import pickle\n",
    "import os\n",
    "import time\n",
    "import soundfile as sf\n",
    "from pyannote.core.segment import Segment\n",
    "import pandas as pd\n",
    "import numpy as np\n",
    "import os\n",
    "import librosa\n",
    "import pandas as pd"
   ]
  },
  {
   "cell_type": "markdown",
   "id": "1",
   "metadata": {},
   "source": [
    "# Interview data"
   ]
  },
  {
   "cell_type": "code",
   "execution_count": null,
   "id": "2",
   "metadata": {},
   "outputs": [],
   "source": [
    "# Parent folder path\n",
    "parent_folder = '../data/20221121_Sprachaufnahmen_Preprocessed'\n",
    "\n",
    "# Initialize an empty DataFrame\n",
    "data = {'probant_acronym': [], 'timepoint': [], 'length': []}\n",
    "df = pd.DataFrame(data)\n",
    "\n",
    "# Function to process each folder\n",
    "def process_folder(folder_path):\n",
    "    for folder_name in os.listdir(folder_path):\n",
    "        if \"_Interview_\" not in folder_name:\n",
    "            continue\n",
    "        \n",
    "        probant_acronym, timepoint = folder_name.split(\"_Interview_\")\n",
    "        folder_full_path = os.path.join(folder_path, folder_name)\n",
    "        \n",
    "        for file_name in os.listdir(folder_full_path):\n",
    "            if 'ZOOM' in file_name and not file_name.endswith('BU.WAV') and (file_name.endswith('.WAV') or file_name.endswith('.wav')):\n",
    "                file_full_path = os.path.join(folder_full_path, file_name)\n",
    "                try:\n",
    "                    audio_data, sr = sf.read(file_full_path)\n",
    "                    audio_length = len(audio_data) / sr\n",
    "                    \n",
    "                    df.loc[len(df)] = [probant_acronym, timepoint, audio_length]\n",
    "                except Exception as e:\n",
    "                    print(f\"Error processing {file_full_path}: {str(e)}\")\n",
    "\n",
    "# Process the parent folder\n",
    "process_folder(parent_folder)"
   ]
  },
  {
   "cell_type": "code",
   "execution_count": null,
   "id": "3",
   "metadata": {},
   "outputs": [],
   "source": [
    "used_patients = ['P01', 'P03', 'P06', 'P07', 'P11', 'P12', 'P20', 'P21', 'P22', 'Px01', 'Px02', 'Px03', 'Px04', 'Px05', 'Px06', 'Px07', 'Px08', 'Px09']"
   ]
  },
  {
   "cell_type": "code",
   "execution_count": null,
   "id": "4",
   "metadata": {},
   "outputs": [],
   "source": [
    "df_filtered = df[df.probant_acronym.isin(used_patients)]"
   ]
  },
  {
   "cell_type": "code",
   "execution_count": null,
   "id": "5",
   "metadata": {},
   "outputs": [],
   "source": [
    "_df = df_filtered\n",
    "print(\"Interview data total\")\n",
    "print(\"vor mean: \", np.mean(_df[_df.timepoint == \"vor\"].length))\n",
    "print(\"vor std: \", np.std(_df[_df.timepoint == \"vor\"].length))\n",
    "print(\"nach mean: \", np.mean(_df[_df.timepoint == \"nach\"].length))\n",
    "print(\"nach std: \", np.std(_df[_df.timepoint == \"nach\"].length))\n",
    "print(\"Total mean: \", np.mean(_df.length))\n",
    "print(\"Total std: \", np.std(_df.length))"
   ]
  },
  {
   "cell_type": "code",
   "execution_count": null,
   "id": "6",
   "metadata": {},
   "outputs": [],
   "source": [
    "_df = df_filtered[~df_filtered.probant_acronym.str.contains(\"x\")]\n",
    "print(\"Interview data control\")\n",
    "print(\"vor mean: \", np.mean(_df[_df.timepoint == \"vor\"].length))\n",
    "print(\"vor std: \", np.std(_df[_df.timepoint == \"vor\"].length))\n",
    "print(\"nach mean: \", np.mean(_df[_df.timepoint == \"nach\"].length))\n",
    "print(\"nach std: \", np.std(_df[_df.timepoint == \"nach\"].length))\n",
    "print(\"Total mean: \", np.mean(_df.length))\n",
    "print(\"Total std: \", np.std(_df.length))"
   ]
  },
  {
   "cell_type": "code",
   "execution_count": null,
   "id": "7",
   "metadata": {},
   "outputs": [],
   "source": [
    "_df = df_filtered[df_filtered.probant_acronym.str.contains(\"x\")]\n",
    "print(\"Interview data PTSD\")\n",
    "print(\"vor mean: \", np.mean(_df[_df.timepoint == \"vor\"].length))\n",
    "print(\"vor std: \", np.std(_df[_df.timepoint == \"vor\"].length))\n",
    "print(\"nach mean: \", np.mean(_df[_df.timepoint == \"nach\"].length))\n",
    "print(\"nach std: \", np.std(_df[_df.timepoint == \"nach\"].length))\n",
    "print(\"Total mean: \", np.mean(_df.length))\n",
    "print(\"Total std: \", np.std(_df.length))"
   ]
  },
  {
   "cell_type": "markdown",
   "id": "8",
   "metadata": {},
   "source": [
    "# Text data"
   ]
  },
  {
   "cell_type": "code",
   "execution_count": null,
   "id": "9",
   "metadata": {},
   "outputs": [],
   "source": [
    "# Parent folder path\n",
    "parent_folder = '../data/20221121_Sprachaufnahmen_Preprocessed'\n",
    "\n",
    "# Initialize an empty DataFrame\n",
    "data = {'probant_acronym': [], 'timepoint': [], 'length': []}\n",
    "df = pd.DataFrame(data)\n",
    "\n",
    "# Function to process each folder\n",
    "def process_folder(folder_path):\n",
    "    for folder_name in os.listdir(folder_path):\n",
    "        if \"Text\" not in folder_name:\n",
    "            continue\n",
    "            \n",
    "        \n",
    "        if \"Text1\" in folder_name:\n",
    "            timepoint = \"vor\"\n",
    "        if \"Text2\" in folder_name:\n",
    "            timepoint = \"nach\"\n",
    "        \n",
    "        probant_acronym, _ = folder_name.split(\"_Text\")\n",
    "        folder_full_path = os.path.join(folder_path, folder_name)\n",
    "                \n",
    "        for file_name in os.listdir(folder_full_path):\n",
    "            if file_name == \"NuS.wav\" or file_name == \"DtS.wav\":\n",
    "                file_full_path = os.path.join(folder_full_path, file_name)\n",
    "                try:\n",
    "                    audio_data, sr = sf.read(file_full_path)\n",
    "                    audio_length = len(audio_data) / sr\n",
    "                    \n",
    "                    df.loc[len(df)] = [probant_acronym, timepoint, audio_length]\n",
    "                except Exception as e:\n",
    "                    print(f\"Error processing {file_full_path}: {str(e)}\")\n",
    "\n",
    "# Process the parent folder\n",
    "process_folder(parent_folder)"
   ]
  },
  {
   "cell_type": "code",
   "execution_count": null,
   "id": "10",
   "metadata": {},
   "outputs": [],
   "source": [
    "used_patients = ['P01', 'P03', 'P06', 'P07', 'P11', 'P12', 'P20', 'P21', 'P22', 'Px01', 'Px02', 'Px03', 'Px04', 'Px05', 'Px06', 'Px07', 'Px08', 'Px09']"
   ]
  },
  {
   "cell_type": "code",
   "execution_count": null,
   "id": "11",
   "metadata": {},
   "outputs": [],
   "source": [
    "df_filtered = df[df.probant_acronym.isin(used_patients)]"
   ]
  },
  {
   "cell_type": "code",
   "execution_count": null,
   "id": "12",
   "metadata": {},
   "outputs": [],
   "source": [
    "_df = df_filtered\n",
    "print(\"Text data total\")\n",
    "print(\"vor mean: \", np.mean(_df[_df.timepoint == \"vor\"].length))\n",
    "print(\"vor std: \", np.std(_df[_df.timepoint == \"vor\"].length))\n",
    "print(\"nach mean: \", np.mean(_df[_df.timepoint == \"nach\"].length))\n",
    "print(\"nach std: \", np.std(_df[_df.timepoint == \"nach\"].length))\n",
    "print(\"Total mean: \", np.mean(_df.length))\n",
    "print(\"Total std: \", np.std(_df.length))"
   ]
  },
  {
   "cell_type": "code",
   "execution_count": null,
   "id": "13",
   "metadata": {},
   "outputs": [],
   "source": [
    "_df = df_filtered[~df_filtered.probant_acronym.str.contains(\"x\")]\n",
    "print(\"Text data control\")\n",
    "print(\"vor mean: \", np.mean(_df[_df.timepoint == \"vor\"].length))\n",
    "print(\"vor std: \", np.std(_df[_df.timepoint == \"vor\"].length))\n",
    "print(\"nach mean: \", np.mean(_df[_df.timepoint == \"nach\"].length))\n",
    "print(\"nach std: \", np.std(_df[_df.timepoint == \"nach\"].length))\n",
    "print(\"Total mean: \", np.mean(_df.length))\n",
    "print(\"Total std: \", np.std(_df.length))"
   ]
  },
  {
   "cell_type": "code",
   "execution_count": null,
   "id": "14",
   "metadata": {},
   "outputs": [],
   "source": [
    "_df = df_filtered[df_filtered.probant_acronym.str.contains(\"x\")]\n",
    "print(\"Text data PTSD\")\n",
    "print(\"vor mean: \", np.mean(_df[_df.timepoint == \"vor\"].length))\n",
    "print(\"vor std: \", np.std(_df[_df.timepoint == \"vor\"].length))\n",
    "print(\"nach mean: \", np.mean(_df[_df.timepoint == \"nach\"].length))\n",
    "print(\"nach std: \", np.std(_df[_df.timepoint == \"nach\"].length))\n",
    "print(\"Total mean: \", np.mean(_df.length))\n",
    "print(\"Total std: \", np.std(_df.length))"
   ]
  },
  {
   "cell_type": "markdown",
   "id": "15",
   "metadata": {},
   "source": [
    "# Interview data preprocessed"
   ]
  },
  {
   "cell_type": "code",
   "execution_count": null,
   "id": "16",
   "metadata": {},
   "outputs": [],
   "source": [
    "# Parent folder path\n",
    "parent_folder = '../data/cropped_data/cropped_interview_data/per_question'\n",
    "\n",
    "# Initialize an empty DataFrame\n",
    "data = {'probant_acronym': [], 'length': []}\n",
    "df = pd.DataFrame(data)\n",
    "\n",
    "# Function to process each folder\n",
    "def process_folder(folder_path):\n",
    "    for file_name in os.listdir(folder_path):\n",
    "        if not file_name.endswith('.wav'):\n",
    "            continue\n",
    "        probant_acronym = file_name.split(\"_\")[0]\n",
    "        file_full_path = os.path.join(folder_path, file_name)\n",
    "        try:\n",
    "            \n",
    "            audio_data, sr = sf.read(file_full_path)\n",
    "            audio_length = len(audio_data) / sr\n",
    "\n",
    "            df.loc[len(df)] = [probant_acronym, audio_length]\n",
    "        except Exception as e:\n",
    "            print(f\"Error processing {file_full_path}: {str(e)}\")\n",
    "\n",
    "# Process the parent folder\n",
    "process_folder(parent_folder)"
   ]
  },
  {
   "cell_type": "code",
   "execution_count": null,
   "id": "17",
   "metadata": {},
   "outputs": [],
   "source": [
    "df_filtered = df[df.probant_acronym.isin(used_patients)]"
   ]
  },
  {
   "cell_type": "code",
   "execution_count": null,
   "id": "18",
   "metadata": {},
   "outputs": [],
   "source": [
    "_df = df_filtered[~df_filtered.probant_acronym.str.contains(\"x\")]\n",
    "print(\"Interview data preprocessed control\")\n",
    "print(\"Total mean: \", np.mean(_df.length))\n",
    "print(\"Total std: \", np.std(_df.length))"
   ]
  },
  {
   "cell_type": "code",
   "execution_count": null,
   "id": "19",
   "metadata": {},
   "outputs": [],
   "source": [
    "_df = df_filtered[df_filtered.probant_acronym.str.contains(\"x\")]\n",
    "print(\"Interview data preprocessed PTSD\")\n",
    "print(\"Total mean: \", np.mean(_df.length))\n",
    "print(\"Total std: \", np.std(_df.length))"
   ]
  },
  {
   "cell_type": "code",
   "execution_count": null,
   "id": "20",
   "metadata": {},
   "outputs": [],
   "source": [
    "# Parent folder path\n",
    "parent_folder = '../data/cropped_data/cropped_interview_data/per_question/windowed_2000_500'\n",
    "\n",
    "# Initialize an empty DataFrame\n",
    "data = {'probant_acronym': [], 'length': []}\n",
    "df = pd.DataFrame(data)\n",
    "\n",
    "# Function to process each folder\n",
    "def process_folder(folder_path):\n",
    "    for file_name in os.listdir(folder_path):\n",
    "        if not file_name.endswith('.wav'):\n",
    "            continue\n",
    "        probant_acronym = file_name.split(\"_\")[0]\n",
    "        file_full_path = os.path.join(folder_path, file_name)\n",
    "        try:\n",
    "            \n",
    "            audio_data, sr = sf.read(file_full_path)\n",
    "            audio_length = len(audio_data) / sr\n",
    "\n",
    "            df.loc[len(df)] = [probant_acronym, audio_length]\n",
    "        except Exception as e:\n",
    "            print(f\"Error processing {file_full_path}: {str(e)}\")\n",
    "\n",
    "# Process the parent folder\n",
    "process_folder(parent_folder)"
   ]
  },
  {
   "cell_type": "code",
   "execution_count": null,
   "id": "21",
   "metadata": {},
   "outputs": [],
   "source": [
    "df_filtered = df[df.probant_acronym.isin(used_patients)]"
   ]
  },
  {
   "cell_type": "code",
   "execution_count": null,
   "id": "22",
   "metadata": {},
   "outputs": [],
   "source": [
    "_df = df_filtered[df_filtered.probant_acronym.str.contains(\"x\")]\n",
    "print(\"Interview data windowed preprocessed PTSD\")\n",
    "print(\"Total mean: \", np.mean(_df.length))\n",
    "print(\"Total std: \", np.std(_df.length))"
   ]
  },
  {
   "cell_type": "code",
   "execution_count": null,
   "id": "23",
   "metadata": {},
   "outputs": [],
   "source": [
    "_df = df_filtered[~df_filtered.probant_acronym.str.contains(\"x\")]\n",
    "print(\"Interview data windowed control\")\n",
    "print(\"Total mean: \", np.mean(_df.length))\n",
    "print(\"Total std: \", np.std(_df.length))"
   ]
  },
  {
   "cell_type": "markdown",
   "id": "24",
   "metadata": {},
   "source": [
    "# Text data preprocessed"
   ]
  },
  {
   "cell_type": "code",
   "execution_count": null,
   "id": "25",
   "metadata": {},
   "outputs": [],
   "source": [
    "# Parent folder path\n",
    "parent_folder = '../data/cropped_data/cropped_text_data/per_phrase'\n",
    "\n",
    "# Initialize an empty DataFrame\n",
    "data = {'probant_acronym': [], 'length': []}\n",
    "df = pd.DataFrame(data)\n",
    "\n",
    "# Function to process each folder\n",
    "def process_folder(folder_path):\n",
    "    for file_name in os.listdir(folder_path):\n",
    "        if not file_name.endswith('.wav'):\n",
    "            continue\n",
    "        probant_acronym = file_name.split(\"_\")[0]\n",
    "        file_full_path = os.path.join(folder_path, file_name)\n",
    "        try:\n",
    "            \n",
    "            audio_data, sr = sf.read(file_full_path)\n",
    "            audio_length = len(audio_data) / sr\n",
    "\n",
    "            df.loc[len(df)] = [probant_acronym, audio_length]\n",
    "        except Exception as e:\n",
    "            print(f\"Error processing {file_full_path}: {str(e)}\")\n",
    "\n",
    "# Process the parent folder\n",
    "process_folder(parent_folder)"
   ]
  },
  {
   "cell_type": "code",
   "execution_count": null,
   "id": "26",
   "metadata": {},
   "outputs": [],
   "source": [
    "df_filtered = df[df.probant_acronym.isin(used_patients)]"
   ]
  },
  {
   "cell_type": "code",
   "execution_count": null,
   "id": "27",
   "metadata": {},
   "outputs": [],
   "source": [
    "_df = df_filtered[df_filtered.probant_acronym.str.contains(\"x\")]\n",
    "print(\"Text data per phrase PTSD\")\n",
    "print(\"Total mean: \", np.mean(_df.length))\n",
    "print(\"Total std: \", np.std(_df.length))"
   ]
  },
  {
   "cell_type": "code",
   "execution_count": null,
   "id": "28",
   "metadata": {},
   "outputs": [],
   "source": [
    "_df = df_filtered[~df_filtered.probant_acronym.str.contains(\"x\")]\n",
    "print(\"Text data per phrase control\")\n",
    "print(\"Total mean: \", np.mean(_df.length))\n",
    "print(\"Total std: \", np.std(_df.length))"
   ]
  },
  {
   "cell_type": "code",
   "execution_count": null,
   "id": "29",
   "metadata": {},
   "outputs": [],
   "source": [
    "# Parent folder path\n",
    "parent_folder = '../data/cropped_data/cropped_text_data/per_word'\n",
    "\n",
    "# Initialize an empty DataFrame\n",
    "data = {'probant_acronym': [], 'length': []}\n",
    "df = pd.DataFrame(data)\n",
    "\n",
    "# Function to process each folder\n",
    "def process_folder(folder_path):\n",
    "    for file_name in os.listdir(folder_path):\n",
    "        if not file_name.endswith('.wav'):\n",
    "            continue\n",
    "        probant_acronym = file_name.split(\"_\")[0]\n",
    "        file_full_path = os.path.join(folder_path, file_name)\n",
    "        try:\n",
    "            \n",
    "            audio_data, sr = sf.read(file_full_path)\n",
    "            audio_length = len(audio_data) / sr\n",
    "\n",
    "            df.loc[len(df)] = [probant_acronym, audio_length]\n",
    "        except Exception as e:\n",
    "            print(f\"Error processing {file_full_path}: {str(e)}\")\n",
    "\n",
    "# Process the parent folder\n",
    "process_folder(parent_folder)"
   ]
  },
  {
   "cell_type": "code",
   "execution_count": null,
   "id": "30",
   "metadata": {},
   "outputs": [],
   "source": [
    "df_filtered = df[df.probant_acronym.isin(used_patients)]"
   ]
  },
  {
   "cell_type": "code",
   "execution_count": null,
   "id": "31",
   "metadata": {},
   "outputs": [],
   "source": [
    "_df = df_filtered[df_filtered.probant_acronym.str.contains(\"x\")]\n",
    "print(\"Text data per word PTSD\")\n",
    "print(\"Total mean: \", np.mean(_df.length))\n",
    "print(\"Total std: \", np.std(_df.length))"
   ]
  },
  {
   "cell_type": "code",
   "execution_count": null,
   "id": "32",
   "metadata": {},
   "outputs": [],
   "source": [
    "_df = df_filtered[~df_filtered.probant_acronym.str.contains(\"x\")]\n",
    "print(\"Text data per word control\")\n",
    "print(\"Total mean: \", np.mean(_df.length))\n",
    "print(\"Total std: \", np.std(_df.length))"
   ]
  }
 ],
 "metadata": {
  "kernelspec": {
   "display_name": "Python 3 (ipykernel)",
   "language": "python",
   "name": "python3"
  },
  "language_info": {
   "codemirror_mode": {
    "name": "ipython",
    "version": 3
   },
   "file_extension": ".py",
   "mimetype": "text/x-python",
   "name": "python",
   "nbconvert_exporter": "python",
   "pygments_lexer": "ipython3",
   "version": "3.10.11"
  }
 },
 "nbformat": 4,
 "nbformat_minor": 5
}
