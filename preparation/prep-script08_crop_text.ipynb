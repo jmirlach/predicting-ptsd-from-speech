{
 "cells": [
  {
   "cell_type": "code",
   "execution_count": null,
   "id": "0",
   "metadata": {},
   "outputs": [],
   "source": [
    "from pyannote.audio import Pipeline\n",
    "import pickle\n",
    "import os\n",
    "import time\n",
    "import soundfile as sf\n",
    "from pyannote.core.segment import Segment\n",
    "import pandas as pd"
   ]
  },
  {
   "cell_type": "code",
   "execution_count": null,
   "id": "1",
   "metadata": {},
   "outputs": [],
   "source": [
    "def cropp_wav(audiofile_path, output_folder, start, end, text, subject, time):\n",
    "\n",
    "    wav_data, wav_samplerate = sf.read(audiofile_path)\n",
    "    start_sample = int(start * wav_samplerate)  # Assuming you have the sample rate stored in 'samplerate'\n",
    "    end_sample = int(end * wav_samplerate)\n",
    "    cropped_data = wav_data[start_sample:end_sample]\n",
    "    \n",
    "    if(time == \"before\"):\n",
    "        time = 'vor'\n",
    "    else:\n",
    "        time = 'nach'\n",
    "    \n",
    "    if(text == \"NuS\"):\n",
    "        text = 'Text1'\n",
    "    else:\n",
    "        text = 'Text2'\n",
    "        \n",
    "    # Save the cropped segment to a new WAV file\n",
    "    output_file_path = os.path.join(output_folder, f\"{subject}_{text}_{time}_{int(start*1000)}_{int(end*1000)}.wav\")\n",
    "    sf.write(output_file_path, cropped_data, wav_samplerate)\n",
    "\n",
    "    print(\".\", end=\"\")"
   ]
  },
  {
   "cell_type": "code",
   "execution_count": null,
   "id": "2",
   "metadata": {},
   "outputs": [],
   "source": [
    "timestamp_data = pd.read_csv('../data/MAUS/trauma_phrase_level.csv')\n",
    "output_folder = '../data/cropped_data/cropped_text_data/per_phrase'\n",
    "\n",
    "for index, row in timestamp_data.iterrows():\n",
    "    cropp_wav(row['file'], output_folder, row['start'], row['end'], row['text'], row['subject'], row['time'])"
   ]
  },
  {
   "cell_type": "code",
   "execution_count": null,
   "id": "3",
   "metadata": {},
   "outputs": [],
   "source": [
    "timestamp_data = pd.read_csv('../data/MAUS/trauma_word_level.csv')\n",
    "output_folder = '../data/cropped_data/cropped_text_data/per_word'\n",
    "\n",
    "for index, row in timestamp_data.iterrows():\n",
    "    cropp_wav(row['file'], output_folder, row['start'], row['end'], row['text'], row['subject'], row['time'])"
   ]
  }
 ],
 "metadata": {
  "kernelspec": {
   "display_name": "Python 3 (ipykernel)",
   "language": "python",
   "name": "python3"
  },
  "language_info": {
   "codemirror_mode": {
    "name": "ipython",
    "version": 3
   },
   "file_extension": ".py",
   "mimetype": "text/x-python",
   "name": "python",
   "nbconvert_exporter": "python",
   "pygments_lexer": "ipython3",
   "version": "3.10.11"
  }
 },
 "nbformat": 4,
 "nbformat_minor": 5
}
