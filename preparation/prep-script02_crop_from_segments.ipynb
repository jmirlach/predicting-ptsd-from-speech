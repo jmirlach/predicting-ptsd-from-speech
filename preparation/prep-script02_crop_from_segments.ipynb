{
 "cells": [
  {
   "cell_type": "code",
   "execution_count": null,
   "id": "0",
   "metadata": {},
   "outputs": [],
   "source": [
    "from pyannote.audio import Pipeline\n",
    "import pickle\n",
    "import os\n",
    "import time\n",
    "import soundfile as sf\n",
    "from pyannote.core.segment import Segment"
   ]
  },
  {
   "cell_type": "code",
   "execution_count": null,
   "id": "1",
   "metadata": {},
   "outputs": [],
   "source": [
    "def cropp_wav_from_segments(audiofile_path, output_folder, probant_segments, probant_acronym):\n",
    "\n",
    "    for i, segment in enumerate(probant_segments):\n",
    "        \n",
    "        wav_data, wav_samplerate = sf.read(audiofile_path)\n",
    "        start_sample = int(segment.start * wav_samplerate)  # Assuming you have the sample rate stored in 'samplerate'\n",
    "        end_sample = int(segment.end * wav_samplerate)\n",
    "        cropped_data = wav_data[start_sample:end_sample]\n",
    "\n",
    "        # Save the cropped segment to a new WAV file\n",
    "        output_file_path = os.path.join(output_folder, f'{probant_acronym}_Interview_{i}.wav')\n",
    "        sf.write(output_file_path, cropped_data, wav_samplerate)\n",
    "\n",
    "    print(f\"Safed cropped segments for {probant_acronym}\")"
   ]
  },
  {
   "cell_type": "code",
   "execution_count": null,
   "id": "2",
   "metadata": {},
   "outputs": [],
   "source": [
    "def load_annotation_objects(probant_acronym):\n",
    "    \n",
    "    filename_diarization = f\"{probant_acronym}_diarization.pkl\"\n",
    "    filepath = os.path.join('../data/annotation_objects/', filename_diarization)\n",
    "    with open(filepath, 'rb') as file:\n",
    "        diarization = pickle.load(file)\n",
    "        \n",
    "    filename_interviewer_segments = f\"{probant_acronym}_interviewer_segments.pkl\"\n",
    "    filepath = os.path.join('../data/annotation_objects/', filename_interviewer_segments)\n",
    "    with open(filepath, 'rb') as file:\n",
    "        interviewer_segments = pickle.load(file)\n",
    "    \n",
    "    filename_probant_segments = f\"{probant_acronym}_probant_segments.pkl\"\n",
    "    filepath = os.path.join('../data/annotation_objects/', filename_probant_segments)\n",
    "    with open(filepath, 'rb') as file:\n",
    "        probant_segments = pickle.load(file)\n",
    "        \n",
    "    return (diarization, interviewer_segments, probant_segments)"
   ]
  },
  {
   "cell_type": "code",
   "execution_count": null,
   "id": "3",
   "metadata": {},
   "outputs": [],
   "source": [
    "# consider all available diarizations\n",
    "diarized_probant_interviews = []\n",
    "seen_substrings = set()\n",
    "for file in os.listdir('../data/annotation_objects/'):\n",
    "    # Finde das zweite Vorkommen des Unterstrichs\n",
    "    index = file.find('_', file.find('_') + 1)\n",
    "    if index != -1:\n",
    "        substring = file[:index]\n",
    "        if substring not in seen_substrings:\n",
    "            diarized_probant_interviews.append(substring)\n",
    "            seen_substrings.add(substring)\n",
    "            \n",
    "output_folder = '../data/cropped_interview_data/all_segments(not_checked)'\n",
    "\n",
    "for probant_acronym in diarized_probant_interviews:\n",
    "    \n",
    "    diarization, interviewer_segments, probant_segments = load_annotation_objects(probant_acronym)\n",
    "    \n",
    "    probant = probant_acronym.split('_')[0]\n",
    "    timepoint = probant_acronym.split('_')[1]\n",
    "    audiofile_folder = f'../data/20221121_Sprachaufnahmen_Preprocessed/{probant}_Interview_{timepoint}'\n",
    "    for file_name in os.listdir(audiofile_folder):\n",
    "        if 'ZOOM' in file_name and not file_name.endswith('BU.WAV') and (file_name.endswith('.WAV') or file_name.endswith('.wav')):\n",
    "            filename = file_name\n",
    "            continue\n",
    "    audiofile_path = os.path.join(audiofile_folder, filename)\n",
    "    print(filename)\n",
    "    cropp_wav_from_segments(audiofile_path, output_folder, probant_segments, probant_acronym)\n",
    "    "
   ]
  }
 ],
 "metadata": {
  "kernelspec": {
   "display_name": "Python 3 (ipykernel)",
   "language": "python",
   "name": "python3"
  },
  "language_info": {
   "codemirror_mode": {
    "name": "ipython",
    "version": 3
   },
   "file_extension": ".py",
   "mimetype": "text/x-python",
   "name": "python",
   "nbconvert_exporter": "python",
   "pygments_lexer": "ipython3",
   "version": "3.10.11"
  }
 },
 "nbformat": 4,
 "nbformat_minor": 5
}
